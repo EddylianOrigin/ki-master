{
 "cells": [
  {
   "cell_type": "markdown",
   "metadata": {},
   "source": [
    "# 1. Übungsblatt"
   ]
  },
  {
   "cell_type": "markdown",
   "metadata": {
    "id": "Og0rv9Y99TA-"
   },
   "source": [
    "**Hinweis:** <br>\n",
    "Wir importieren das Package `jdc` um die Definition dieser Klasse auf mehrere Zellen zu verteilen und somit zwischendurch Hilfestellung geben zu können. Wir werden dieses Package auch in zukünftigen Übungsblättern verwenden. Sie müssen sich jedoch nicht weiter mit diesem Package auseinandersetzen, da alles notwendige vorgegeben sein wird. Für alle Interessierten:\n",
    "* wir benötigen `!pip install jdc` um das Package zu installieren, da das Packages standardmäßig nicht installiert ist.\n",
    "* mit `import jdc` importieren wir das Package\n",
    "* wir schreiben `%%add_to CLASSNAME` in die erste Zeile einer Zelle (oder alternativ nach den Package imports) um alle Methoden dieser Zelle der Klasse `CLASSNAME` zuzuordnen.\n"
   ]
  },
  {
   "cell_type": "code",
   "execution_count": 74,
   "metadata": {
    "colab": {
     "base_uri": "https://localhost:8080/"
    },
    "id": "ZnszJO7S9U9w",
    "outputId": "950948dc-6352-48ee-b637-87a21349659f"
   },
   "outputs": [],
   "source": [
    "# Um Klassendefinition auf mehrere Zellen aufteilen zu können.\n",
    "import jdc\n",
    "import numpy as np\n",
    "import copy\n",
    "import heapq"
   ]
  },
  {
   "cell_type": "markdown",
   "metadata": {
    "id": "Ankm9FUza4Cs"
   },
   "source": [
    "## Aufgabe 1.4 (A*-Suche)\n",
    "In dieser Aufgabe soll die A$^\\star$-Suche implementiert werden. Hierfür definieren wir als erstes die Klasse `Node`. Sie können diese auch nach ihren eignen Vorstellungen ändern. Wir finden folgende Attribute sinnvoll:\n",
    "  * Name: Name des Knotens\n",
    "  * child_weight_list: Eine Liste von Tupeln $[(v_1, n_1), \\ldots, (v_k, n_k)]$, wobei $v_i$ der Namen eines Nachbarknotens und $n_i$ die Kosten zwischen dem aktuellen Knoten und $v_i$ entsprechen.\n",
    "  * predecessor: Speichert den Vorgängerknoten\n",
    "  * g: Die bisherigen Kosten zwischen dem Startknoten und diesem Knoten\n",
    "  * h: Eie heuristischen Kosten\n",
    "  * f: Die Gesamtkosten.\n",
    "\n",
    "Des Weiteren soll eine Methode `set_children(self, child_weight_list)` geschrieben werden um nachträglich noch Kinder bzw Nachbarknoten zu setzen.\n",
    "\n",
    "Damit wir später ein `Node`-Objekt in die Queue legen können, müssen wir festlegen, wie zwei `Node`-Objekte verglichen werden können. Hierfür implementieren wir die \\_\\_lt\\_\\_() Methode (lt steht für \"less than\"). Zur Erinnerung, ein Knoten $u$ wird vor einem anderen Knoten $v$ besucht, wenn $$f(u) < f(v).$$\n",
    "Genau das implementieren wir in der Methode `__lt__(self, other)`. Diese Methode müssen Sie nicht mehr ändern."
   ]
  },
  {
   "cell_type": "code",
   "execution_count": 75,
   "metadata": {
    "id": "yEeo4Z_565ga"
   },
   "outputs": [],
   "source": [
    "class Node(object):\n",
    "    def __init__(self, name, neighbor_weight_list, h):\n",
    "        self.name = name\n",
    "        self.neighbor_weight_list = neighbor_weight_list\n",
    "        self.predecessor = None\n",
    "        self.h = h\n",
    "        self.g = 0 # 10**3\n",
    "    \n",
    "    def f(self):\n",
    "        return self.h + self.g\n",
    "        \n",
    "    def set_neighbors(self, neighbor_weight_list):\n",
    "        self.neighbor_weight_list = neighbor_weight_list   \n",
    "        \n",
    "    def __lt__(self, other):\n",
    "        return self.f() < other.f()\n",
    "    \n",
    "    def __str__(self):\n",
    "        return self.name"
   ]
  },
  {
   "cell_type": "markdown",
   "metadata": {
    "id": "lVzmmseN6Gly"
   },
   "source": [
    "Definieren Sie jetzt den Graphen aus Aufgabe 1.2. a und b."
   ]
  },
  {
   "cell_type": "code",
   "execution_count": 76,
   "metadata": {
    "id": "7_GShsNkf_vv"
   },
   "outputs": [],
   "source": [
    "def graph_1(aufgabenteil_a):\n",
    "    S = Node(name=\"S\", neighbor_weight_list=[], h=128)\n",
    "    A = Node(name=\"A\", neighbor_weight_list=[], h=75)\n",
    "    B = Node(name=\"B\", neighbor_weight_list=[], h=104)\n",
    "    C = Node(name=\"C\", neighbor_weight_list=[], h=139)\n",
    "    D = Node(name=\"D\", neighbor_weight_list=[], h=160)\n",
    "    E = Node(name=\"E\", neighbor_weight_list=[], h=90)\n",
    "    F = Node(name=\"F\", neighbor_weight_list=[], h=37)\n",
    "    if aufgabenteil_a:\n",
    "        G = Node(name=\"G\", neighbor_weight_list=[], h=27)\n",
    "    else:\n",
    "        G = Node(name=\"G\", neighbor_weight_list=[], h=3)\n",
    "    T = Node(name=\"T\", neighbor_weight_list=[], h=0)\n",
    "\n",
    "    S.set_neighbors(neighbor_weight_list=[(B, 29), (C, 12), (A, 53)])\n",
    "    A.set_neighbors(neighbor_weight_list=[(S, 53), (E, 9)])\n",
    "    B.set_neighbors(neighbor_weight_list=[(S, 29), (D, 67), (E, 32)])\n",
    "    C.set_neighbors(neighbor_weight_list=[(S, 12), (D, 24)])\n",
    "    D.set_neighbors(neighbor_weight_list=[(B, 67), (C, 24)])\n",
    "    E.set_neighbors(neighbor_weight_list=[(A, 9), (B, 32), (F, 58), (G, 73)])\n",
    "    F.set_neighbors(neighbor_weight_list=[(E, 58), (G, 14), (T, 40)])\n",
    "\n",
    "    if aufgabenteil_a:\n",
    "        G.set_neighbors(neighbor_weight_list=[(E, 73), (F, 14), (T, 28)])\n",
    "        T.set_neighbors(neighbor_weight_list=[(F, 40), (G, 28)])\n",
    "    else:\n",
    "        G.set_neighbors(neighbor_weight_list=[(E, 73), (F, 14), (T, 23)])\n",
    "        T.set_neighbors(neighbor_weight_list=[(F, 40), (G, 23)])\n",
    "\n",
    "    return S\n",
    "\n",
    "\n",
    "def graph_2():\n",
    "    s = Node(name=\"s\", neighbor_weight_list=[], h=40)\n",
    "    b = Node(name=\"b\", neighbor_weight_list=[], h=30)\n",
    "    c = Node(name=\"c\", neighbor_weight_list=[], h=0)\n",
    "    a = Node(name=\"a\", neighbor_weight_list=[], h=0)\n",
    "    t = Node(name=\"t\", neighbor_weight_list=[], h=0)\n",
    "\n",
    "    s.set_neighbors(neighbor_weight_list=[(b, 10), (a, 25)])\n",
    "    b.set_neighbors(neighbor_weight_list=[(s, 10), (c, 20)])\n",
    "    c.set_neighbors(neighbor_weight_list=[(b, 20), (a, 10), (t, 10)])\n",
    "    a.set_neighbors(neighbor_weight_list=[(s, 25), (c, 10)])\n",
    "    t.set_neighbors(neighbor_weight_list=[(a, 10)])\n",
    "\n",
    "    return s"
   ]
  },
  {
   "cell_type": "markdown",
   "metadata": {
    "id": "HcDuL5Xh5P8N"
   },
   "source": [
    "Implementieren Sie jetzt die Methode `a_star(self, target_node_name)` so, dass eine A$^\\star$-Suche ausgehend vom aktuellen Knoten `self` zum Zielknoten mit dem Namen `target_node_name` durchgeführt wird und dabei den kürzesten Weg findet, auch wenn die Heuristik nicht monoton ist (d.h. ohne closed_list). In der nächsten Zelle sehen Sie, wie ein `Node`-Objekt in eine Priority-Queue gelegt werden kann. Weitere Informationen zur Verwendung des queue Packages finden Sie auf dem 0. Übungsblatt."
   ]
  },
  {
   "cell_type": "code",
   "execution_count": 77,
   "metadata": {
    "id": "Y6VeeFcrgkHM",
    "scrolled": false
   },
   "outputs": [],
   "source": [
    "%%add_to Node\n",
    "\n",
    "def a_star(self, target_node_name):\n",
    "    visited = []\n",
    "    found = [self]\n",
    "    heapq.heapify(found)\n",
    "\n",
    "    while(found):\n",
    "        current = heapq.heappop(found)\n",
    "        visited += [current]\n",
    "        if current.name == target_node_name:\n",
    "            path = []\n",
    "            while (current.predecessor):\n",
    "                path = [current.name] + path\n",
    "                current = current.predecessor\n",
    "            return [self.name] + path\n",
    "        for (n, d) in current.neighbor_weight_list:\n",
    "            if n in found and n.g < current.g + d:\n",
    "                continue\n",
    "            if n in visited and n.g < current.g + d:\n",
    "                continue\n",
    "            n.g = current.g + d\n",
    "            n.predecessor = current\n",
    "            if not n in found:\n",
    "                heapq.heappush(found, n)"
   ]
  },
  {
   "cell_type": "markdown",
   "metadata": {
    "id": "XdnlZimz6daS"
   },
   "source": [
    "Wenden Sie die A* Suche so an, wie in Aufgabe 1.2 a und b beschrieben. Lassen Sie sich zum Schluss den kürzesten (S,T)-Pfad ausgeben."
   ]
  },
  {
   "cell_type": "code",
   "execution_count": 78,
   "metadata": {
    "colab": {
     "base_uri": "https://localhost:8080/"
    },
    "id": "GDwd8GF2gK82",
    "outputId": "cb138e18-5812-4e5b-d1b9-5b58ba02050b",
    "scrolled": true
   },
   "outputs": [
    {
     "name": "stdout",
     "output_type": "stream",
     "text": [
      "['S', 'B', 'E', 'F', 'T']\n"
     ]
    }
   ],
   "source": [
    "print(graph_1(True).a_star(\"T\"))"
   ]
  },
  {
   "cell_type": "markdown",
   "metadata": {
    "colab": {
     "base_uri": "https://localhost:8080/"
    },
    "id": "ZnszJO7S9U9w",
    "outputId": "950948dc-6352-48ee-b637-87a21349659f"
   },
   "source": [
    "## Bonusaufgabe (Alpha-Beta Pruning)\n",
    "In dieser Aufgabe soll die  MinMax Suche mit Alpha-Beta Pruning implementiert werden. Dazu definieren wir unsere Klasse `Node` neu, denn Attibute wie `h`, `g`, und `f` benötigen wir jetzt nicht mehr. Stattdessen können folgende Attribute nützlich sein:\n",
    "  * value: Der Wert des Knotens.\n",
    "  * id: Ein eindeutiger Wert für den Knoten. Da es mehrere Knoten mit dem gleichen Wert geben kann, ist es sinnvoll eine zusätzliche Zahl oder String zu verwenden um den Knoten eindeutig identifizierbar zu machen.\n",
    "  * is_maximizingPlayer: Ein Status-Flag das speichert, ob es sich bei dem Knoten um einen Min- oder Max-Spieler handelt.\n",
    "  * alpha: Der alpha-Wert.\n",
    "  * beta: Der beta-Wert.\n",
    "  * children: Die Kinder der aktuellen Knotens.\n",
    "\n",
    "\n",
    "mit dem zugehörigen Konstruktor. Das Grundgerüst dazu ist bereits in der nächsten Zelle angegeben und kennen Sie vielleicht schon aus Übungsblatt 0. Sie können den Konstruktor um zusätzliche Parameter (z.B. `alpha`, `beta` und `value`) erweitern."
   ]
  },
  {
   "cell_type": "code",
   "execution_count": 79,
   "metadata": {},
   "outputs": [],
   "source": [
    "class Node:\n",
    "    def __init__(self, id, is_maximizingPlayer, children, alpha=None, beta=None, value=None,):\n",
    "        self.id = id\n",
    "        self.value = value\n",
    "        self.is_maximizingPlayer = is_maximizingPlayer\n",
    "\n",
    "        self.alpha = alpha\n",
    "        self.beta = beta\n",
    "\n",
    "        self.children = children"
   ]
  },
  {
   "cell_type": "markdown",
   "metadata": {
    "id": "4Td-S71m7eLR"
   },
   "source": [
    "Verwenden Sie jetzt diese Klasse um den Suchbaum aus Aufgabe 1.2 zu konstruieren. Wenn Sie möchten, können Sie diese Konstruktion in eine Funktion packen um eine bessere Übersicht zu gewähren und die Sichtbarkeit der Variablennamen einzuschränken."
   ]
  },
  {
   "cell_type": "code",
   "execution_count": 80,
   "metadata": {
    "id": "Qw1s3USL7cyy"
   },
   "outputs": [],
   "source": [
    "def tree_1():\n",
    "    leaf_7 = Node(id=11, value=7, is_maximizingPlayer=False, children=[])\n",
    "    leaf_15 = Node(id=12, value=15, is_maximizingPlayer=False, children=[])\n",
    "    leaf_20 = Node(id=13, value=20, is_maximizingPlayer=False, children=[])\n",
    "    leaf_25 = Node(id=14, value=25, is_maximizingPlayer=False, children=[])\n",
    "    leaf_16 = Node(id=15, value=16, is_maximizingPlayer=False, children=[])\n",
    "    leaf_3_left = Node(id=16, value=3, is_maximizingPlayer=False, children=[])\n",
    "    leaf_21 = Node(id=17, value=21, is_maximizingPlayer=False, children=[])\n",
    "    leaf_6 = Node(id=18, value=6, is_maximizingPlayer=False, children=[])\n",
    "    leaf_17 = Node(id=19, value=17, is_maximizingPlayer=False, children=[])\n",
    "    leaf_10 = Node(id=20, value=10, is_maximizingPlayer=False, children=[])\n",
    "    leaf_3_right = Node(id=21, value=3, is_maximizingPlayer=False, children=[])\n",
    "    leaf_12 = Node(id=22, value=12, is_maximizingPlayer=False, children=[])\n",
    "    leaf_8 = Node(id=23, value=8, is_maximizingPlayer=False, children=[])\n",
    "    leaf_13 = Node(id=24, value=13, is_maximizingPlayer=False, children=[])\n",
    "    leaf_2 = Node(id=25, value=2, is_maximizingPlayer=False, children=[])\n",
    "    leaf_11 = Node(id=26, value=11, is_maximizingPlayer=False, children=[])\n",
    "\n",
    "    inner_node_1 = Node(id=4, is_maximizingPlayer=True, children=[leaf_7, leaf_15])\n",
    "    inner_node_2 = Node(id=5, is_maximizingPlayer=True, children=[leaf_20, leaf_25])\n",
    "    inner_node_3 = Node(id=6, is_maximizingPlayer=True, children=[leaf_16, leaf_3_left, leaf_21])\n",
    "    inner_node_4 = Node(id=7, is_maximizingPlayer=True, children=[leaf_6, leaf_17, leaf_10])\n",
    "    inner_node_5 = Node(id=8, is_maximizingPlayer=True, children=[leaf_3_right, leaf_12])\n",
    "    inner_node_6 = Node(id=9, is_maximizingPlayer=True, children=[leaf_8, leaf_13])\n",
    "    inner_node_7 = Node(id=10, is_maximizingPlayer=True, children=[leaf_2, leaf_11])\n",
    "\n",
    "    inner_node_8 = Node(id=2, is_maximizingPlayer=False, children=[inner_node_1, inner_node_2, inner_node_3])\n",
    "    inner_node_9 = Node(id=3, is_maximizingPlayer=False, children=[inner_node_4, inner_node_5, inner_node_6, inner_node_7])\n",
    "\n",
    "    root = Node(id=1, is_maximizingPlayer=True, children=[inner_node_8, inner_node_9], alpha=-np.inf, beta=np.inf)\n",
    "\n",
    "    return root"
   ]
  },
  {
   "cell_type": "markdown",
   "metadata": {
    "id": "BEcMITIk6y2P"
   },
   "source": [
    "## Aufgabe 1.3 (Alpha-Beta-Pruning)\n",
    "In dieser Aufgabe soll die  MinMax Suche mit Alpha-Beta Pruning implementiert werden. Zunächst definieren wir eine Klasse `Node` mit dem zugehörigen Konstruktor. Das Grundgerüst dazu ist bereits in der nächsten Zelle angegeben und kennen Sie vielleicht schon aus Übungsblatt 0. Sie können den Konstruktor um zusätzliche Parameter (z.B. `alpha`, `beta` und `value`) erweitern.\n",
    "<br>\n",
    "<br>\n",
    "Jetzt soll die Methode `alpha_beta(...)` für die Klasse `Node` implementiert werden. Jenachdem welche Parameter Sie dem Konstruktor übergeben, benötigt die Methode `alpha_beta` mehr oder weniger Parameter. \n",
    "<br>\n",
    "Hinweis:\n",
    "Es gibt eine Möglichkeit, sodass sie der Methode `alpha_beta` gar keine Parameter übergeben müssen."
   ]
  },
  {
   "cell_type": "code",
   "execution_count": 81,
   "metadata": {
    "id": "hO_x4wGDzn6X"
   },
   "outputs": [],
   "source": [
    "%%add_to Node\n",
    "def alpha_beta(self, alpha, beta):\n",
    "    if(not self.children):\n",
    "        return self.value\n",
    "    \n",
    "    if (self.is_maximizingPlayer):\n",
    "        maxEva = -np.inf\n",
    "\n",
    "        for c in self.children: \n",
    "            maxEva= max(maxEva, c.alpha_beta(alpha, beta))\n",
    "            alpha = max(alpha, maxEva)\n",
    "            if (beta <= alpha):\n",
    "              break\n",
    "        return maxEva\n",
    "\n",
    "    else:\n",
    "        minEva = np.inf\n",
    "\n",
    "        for c in self.children: \n",
    "            minEva= min(minEva, c.alpha_beta(alpha, beta))\n",
    "            beta = min(beta, minEva)\n",
    "            if (beta <= alpha):\n",
    "                break\n",
    "        return minEva"
   ]
  },
  {
   "cell_type": "markdown",
   "metadata": {
    "id": "xs9Mw4w_eV-Y"
   },
   "source": [
    "Als nächstes rufen wir die Methode auf dem Wurzelknoten auf."
   ]
  },
  {
   "cell_type": "code",
   "execution_count": 82,
   "metadata": {
    "colab": {
     "base_uri": "https://localhost:8080/"
    },
    "id": "7nlIhDfKeM1D",
    "outputId": "a0d01da6-b90f-497e-cb5d-3eb650729ef3",
    "scrolled": false
   },
   "outputs": [
    {
     "data": {
      "text/plain": [
       "15"
      ]
     },
     "execution_count": 82,
     "metadata": {},
     "output_type": "execute_result"
    }
   ],
   "source": [
    "tree_1().alpha_beta(-np.inf, np.inf)"
   ]
  },
  {
   "cell_type": "code",
   "execution_count": null,
   "metadata": {},
   "outputs": [],
   "source": []
  }
 ],
 "metadata": {
  "colab": {
   "collapsed_sections": [],
   "name": "1_Übungsblatt_(Suche)_Lösungen.ipynb",
   "provenance": []
  },
  "kernelspec": {
   "display_name": "Python 3.11.0 ('venv': venv)",
   "language": "python",
   "name": "python3"
  },
  "language_info": {
   "codemirror_mode": {
    "name": "ipython",
    "version": 3
   },
   "file_extension": ".py",
   "mimetype": "text/x-python",
   "name": "python",
   "nbconvert_exporter": "python",
   "pygments_lexer": "ipython3",
   "version": "3.11.0 (main, Oct 24 2022, 18:26:48) [MSC v.1933 64 bit (AMD64)]"
  },
  "vscode": {
   "interpreter": {
    "hash": "a02dbbddb033a4be45f1d81e7bbfdf6c44d87abad1747935ac54c2c3b999906b"
   }
  }
 },
 "nbformat": 4,
 "nbformat_minor": 1
}

{
 "cells": [
  {
   "cell_type": "markdown",
   "metadata": {
    "id": "vPejNWjQlg6C"
   },
   "source": [
    "# 5. Übungsblatt: Trainieren eines Klassifizierers auf dem STL-10 Datensatz\n",
    "In diesem Notebook werden wir wieder einen Klassifizierer in Pytorch implementieren, mit dem Unterschied, dass wir dieses Mal ein CNN statt einem MLP für die Klassifizierung verwenden werden. Als Datensatz verwenden wir den STL-10 Datensatz. Der STL-10 Datensatz enthält Bilder von Flugzeugen, Vögeln, Katzen und vielem mehr, jeweils mit einer Auflösung von $96 \\times 96$ Pixeln. Wir haben uns für diesen Datensatz entschieden, damit das Training auch auf Leistungsschwächeren Computern läuft, z.B. welche ohne Grafikkarte.\n",
    "\n",
    "Klassifizierer arbeiten jedoch nicht mit der textuellen Beschreibung von Objekten wie z.B. \"Airplane\", \"Bird\", \"Car\" usw. stattdessen wird jede Klasse mit einer Zahl repräsentiert. Diese Repräsentierung legen wir als erstes fest, da uns dies später einiges erleichtern wird. Hierfür wählen wir die lexikographische Sortierung der Klassennamen und indizieren gemäß dieser Reihenfolge. Das Ergebnis speichern wir in einem Dictionary (eine Liste wäre allerdings auch ausreichend).\n",
    "\n",
    "## 1. Daten einlesen (ToDo)\n",
    "Als nächstes definieren wir den Pfad zu den Bildern *root_dir* und den Pfad, an dem wir später unsere trainierten Gewichte inkl. Optimiererdaten und Trainingsergebnisse speichern werden *checkpoint_dir*. In dem Verzeichnis, in dem Sie dieses Notebook speichern, wird ein Ordner angelegt mit dem Namen *Checkpoints*. Anschließend definieren wir zwei Pfade inkl. Dateinamen für diese Checkpoints. Ein Checkpoint enthält einen Zeitstempel im Dateinamen, der andere nicht. Wenn Sie später ihr Modell testen oder nochmal trainieren möchten, wird immer der Checkpoint ohne Zeitstempel zum Laden verwendet."
   ]
  },
  {
   "cell_type": "code",
   "execution_count": 59,
   "metadata": {
    "colab": {
     "base_uri": "https://localhost:8080/"
    },
    "id": "AUOmegu7lg6E",
    "outputId": "d694eb27-6744-4a7b-ef49-942ebbb601e7"
   },
   "outputs": [],
   "source": [
    "import os\n",
    "import numpy as np\n",
    "import random\n",
    "import glob\n",
    "\n",
    "import torch\n",
    "import torchvision\n",
    "from torch.utils.data import Dataset\n",
    "\n",
    "# from PIL import Image\n",
    "import cv2\n",
    "\n",
    "from tqdm import tqdm   # Progress-Bar\n",
    "\n",
    "# Setze einen Seed für die Reproduzierbarkeit.\n",
    "torch.manual_seed(1)\n",
    "\n",
    "class_map_idx_to_str = {0: 'airplane',\n",
    "                        1: 'bird', \n",
    "                        2: 'car', \n",
    "                        3: 'cat', \n",
    "                        4: 'deer', \n",
    "                        5: 'dog', \n",
    "                        6: 'horse', \n",
    "                        7: 'monkey', \n",
    "                        8: 'ship', \n",
    "                        9: 'truck'}\n",
    "\n",
    "def get_labels():\n",
    "    return [class_map_idx_to_str[key] for key in class_map_idx_to_str.keys()]\n",
    "\n",
    "\n",
    "def seed_everything(seed):\n",
    "    random.seed(seed)\n",
    "    os.environ['PYTHONHASHSEED'] = str(seed)\n",
    "    np.random.seed(seed)\n",
    "    torch.manual_seed(seed)\n",
    "    torch.cuda.manual_seed(seed)\n",
    "    torch.cuda.manual_seed_all(seed)\n",
    "    torch.backends.cudnn.deterministic = True\n",
    "    torch.backends.cudnn.benchmark = False\n",
    "\n",
    "seed_everything(1)\n",
    "\n",
    "# Definiere den Pfad zu den Ordnern train, val und test.\n",
    "root_dir = os.getcwd() + os.sep + \"STL-10_Dataset\\\\\"\n",
    "\n",
    "# Definiere den Pfad zu den trainierten Gewichten.\n",
    "checkpoint_dir = os.getcwd() + os.sep + \"Checkpoints\" + os.sep\n",
    "\n",
    "checkpoint_path = os.getcwd() + \"/Checkpoints/checkpoint.pth.tar\"\n",
    "\n",
    "# Erstelle einen neuen Ordner Checkpoints im aktuellen Verzeichnis.\n",
    "if not os.path.isdir(os.getcwd() + \"/Checkpoints/\"):\n",
    "    os.makedirs(os.getcwd() + \"/Checkpoints/\")\n",
    "\n",
    "# Lade den aktuellen Checkpoint (falls vorhanden), ansonsten erstelle einen neuen.\n",
    "def create_or_load_checkpoint(model, epoch=-1, optimizer=None, last_loss=10**20):\n",
    "    if os.path.isfile(checkpoint_path):\n",
    "        print(\"=> Looking for checkpoint\")\n",
    "        try:\n",
    "            checkpoint = torch.load(checkpoint_path)\n",
    "            epoch = checkpoint['epoch']\n",
    "            print(\"Loaded epoch number is\", epoch)            \n",
    "            last_loss = checkpoint['best_loss']\n",
    "            print(\"Loaded best loss is\", last_loss)\n",
    "            model.load_state_dict(checkpoint['state_dict'], strict=False)\n",
    "            if not optimizer is None:\n",
    "                optimizer.load_state_dict(checkpoint['optimizer'])\n",
    "            print(\"=> Found and loaded checkpoint\")\n",
    "        except:\n",
    "            print(\"Your checkpoint does not contain trained weights. Your old weights will be overwritten.\")\n",
    "            torch.save({'epoch': epoch, 'state_dict': model.state_dict(), 'best_loss': last_loss, 'optimizer': optimizer.state_dict()}, checkpoint_path)\n",
    "    else:\n",
    "        torch.save({'epoch': epoch, 'state_dict': model.state_dict(), 'best_loss': last_loss, 'optimizer': optimizer.state_dict()}, checkpoint_path)\n",
    "        print(\"=> No checkpoint found. You have to train first.\")\n",
    "    return epoch, last_loss"
   ]
  },
  {
   "cell_type": "markdown",
   "metadata": {
    "id": "pFH87zj5lg6F"
   },
   "source": [
    "## 2. Bilder laden und Exkurs zu Augmentierungen (ToDo + Bonusaufgabe)\n",
    "Im folgenden Abschnitt laden wir die Bilder. Wenn Sie die Bonusaufgabe machen möchten, sollen die Bilder nicht mehr nur im originalen Zustand dem Training übergeben werden, sondern die Bilder sollen zovor augmentiert werden. Das heißt, die Bilder sollen mit einer Wahrscheinlichkeit von:\n",
    " * 75% rotiert werden. Die Rotation soll im Bereich -15 bis +15 Grad liegen. (2 Punkte)\n",
    " * 50% an der vertikalen Achse gespiegelt werden. (1 Punkt)\n",
    "\n",
    "Weitere gängige Augmentierungsmethoden, die Sie freiwillig implementieren können, sind z.B.\n",
    "1. Änderung in Helligkeit, Sättigung und Farbwert: verwende HSV statt RGB und ändere H (Hue), S (Saturation) und V (Value)\n",
    "2. Verschiebung: Bild wird etwas nach oben, unten, links oder rechts verschoben.\n",
    "3. Skalierung: Bild wird vergrößert oder verkleinert\n",
    "4. Scherung: Bild wird geschert: Eine Seite bleibt fest, die gegenüberliegende Seite wird verschoben\n",
    "5. Crops: Statt dem gesamten Bild werden dem Modell nur Teile des Bildes gezeigt (meist zufällige Bildausschnitte und mehrere)\n",
    "6. Rauschen: Auf das Bild wird ein verrauschtes Array addiert\n",
    "\n",
    "Die Idee der Augmentierung ist, dass man künstlich die Anzahl der Eingabebilder vergrößert. Mittlerweile ist man so weit, dass man neuronale Netze verwendet, sogenannte GANs (Generative Adversarial Network), die für einen gegebenen Datensatz, die Verteilung dieses Datensatzes lernen. Dadurch lassen sich ähnliche, täuschend echte Bilder erzeugen, die wiederum für ein anderes Netz verwendet werden können. Diese Technik verwendet man häufig bei Daten für die es sehr schwer ist gelabelte Daten zu bekommen, z.B. Sensordaten für Aktivitätserkennung."
   ]
  },
  {
   "cell_type": "code",
   "execution_count": null,
   "metadata": {},
   "outputs": [],
   "source": []
  },
  {
   "cell_type": "code",
   "execution_count": 60,
   "metadata": {
    "id": "Y5uhmtUVlg6G"
   },
   "outputs": [
    {
     "name": "stdout",
     "output_type": "stream",
     "text": [
      "test\n",
      "c:\\Users\\TUK\\Documents\\_Uni\\ki\\U05\\STL-10_Dataset\\test\\\n",
      "(tensor([[[0.2392, 0.1373, 0.2275,  ..., 0.0235, 0.0039, 0.0000],\n",
      "         [0.2431, 0.1529, 0.0706,  ..., 0.0039, 0.0157, 0.0157],\n",
      "         [0.0980, 0.2784, 0.0549,  ..., 0.0235, 0.0235, 0.0078],\n",
      "         ...,\n",
      "         [0.0000, 0.0196, 0.0824,  ..., 0.5882, 0.5882, 0.6039],\n",
      "         [0.0627, 0.1608, 0.1216,  ..., 0.5216, 0.5608, 0.5804],\n",
      "         [0.1294, 0.2235, 0.1843,  ..., 0.4039, 0.4510, 0.5176]],\n",
      "\n",
      "        [[0.4627, 0.3490, 0.4039,  ..., 0.1059, 0.0706, 0.0667],\n",
      "         [0.3804, 0.2745, 0.1412,  ..., 0.1020, 0.1059, 0.1020],\n",
      "         [0.1451, 0.4000, 0.1412,  ..., 0.1412, 0.1412, 0.1216],\n",
      "         ...,\n",
      "         [0.2549, 0.2549, 0.2941,  ..., 0.7059, 0.6863, 0.6941],\n",
      "         [0.3294, 0.4392, 0.3490,  ..., 0.6431, 0.6667, 0.6902],\n",
      "         [0.4039, 0.5176, 0.4275,  ..., 0.5451, 0.5725, 0.6353]],\n",
      "\n",
      "        [[0.4588, 0.3255, 0.3765,  ..., 0.1098, 0.0784, 0.0745],\n",
      "         [0.3961, 0.2863, 0.1569,  ..., 0.1020, 0.1059, 0.1059],\n",
      "         [0.1961, 0.4431, 0.1843,  ..., 0.1373, 0.1373, 0.1216],\n",
      "         ...,\n",
      "         [0.3098, 0.3098, 0.3529,  ..., 0.8000, 0.7882, 0.7961],\n",
      "         [0.4078, 0.5098, 0.4275,  ..., 0.7490, 0.7804, 0.8000],\n",
      "         [0.5020, 0.6000, 0.5255,  ..., 0.6784, 0.7059, 0.7725]]]), 4)\n"
     ]
    }
   ],
   "source": [
    "def list_subdirs(path):\n",
    "    ps = []\n",
    "    for file in os.listdir(path):\n",
    "        if os.path.isdir(os.path.join(path, file)):\n",
    "            ps += [file]\n",
    "    return ps\n",
    "\n",
    "def list_files(path):\n",
    "    ps = []\n",
    "    for file in os.listdir(path):\n",
    "        if not os.path.isdir(os.path.join(path, file)):\n",
    "            ps += [file]\n",
    "    return ps\n",
    "\n",
    "def get_index(val):\n",
    "    for k in class_map_idx_to_str.keys():\n",
    "        if class_map_idx_to_str[k] == val:\n",
    "            return k\n",
    "\n",
    "def rotate_image(image, angle):\n",
    "    image_center = tuple(np.array(image.shape[1::-1]) / 2)\n",
    "    rot_mat = cv2.getRotationMatrix2D(image_center, angle, 1.0)\n",
    "    result = cv2.warpAffine(image, rot_mat, image.shape[1::-1], flags=cv2.INTER_LINEAR)\n",
    "    return result\n",
    "\n",
    "\n",
    "class Simple_Dataloader(Dataset):\n",
    "    def __init__(self, root_dir, loader_mode):\n",
    "        print(loader_mode)\n",
    "        self.root_dir = root_dir\n",
    "        self.loader_mode = loader_mode\n",
    "\n",
    "        if not loader_mode in [\"train\", \"val\", \"test\"]:\n",
    "            raise Exception\n",
    "\n",
    "        self.root_dir += self.loader_mode + os.sep\n",
    "        print(self.root_dir)\n",
    "\n",
    "        self.imgs = []\n",
    "        self.c = []\n",
    "\n",
    "        for c in list_subdirs(self.root_dir):\n",
    "            # print(c)\n",
    "            # self.data[c] = []\n",
    "            for f in list_files(self.root_dir + c + os.sep):\n",
    "                self.imgs += [f]\n",
    "                self.c += [c]\n",
    "\n",
    "        self.imgs, self.c = zip(*sorted(zip(self.imgs, self.c)))\n",
    "        # print(self.data)\n",
    "\n",
    "        self.transform = torchvision.transforms.Compose([\n",
    "            torchvision.transforms.ToTensor()\n",
    "        ])\n",
    "\n",
    "    def __len__(self):\n",
    "        return len(self.imgs)\n",
    "\n",
    "    def __getitem__(self, idx):\n",
    "        flip = bool(random.randint(0,1))\n",
    "        rotate = bool(random.randint(0,3))\n",
    "        deg = random.randint(-15,15)\n",
    "\n",
    "        lbl = self.c[idx]\n",
    "\n",
    "        lbl_index = get_index(lbl)\n",
    "\n",
    "        img_path = self.root_dir + lbl + os.sep + self.imgs[idx]\n",
    "\n",
    "        img = cv2.imread(img_path, cv2.IMREAD_COLOR)\n",
    "        if flip:\n",
    "            img = cv2.flip(img, 0)\n",
    "        if rotate:\n",
    "            img = rotate_image(img, deg)\n",
    "\n",
    "        # Transform Numpy Array into Pytorch Tensor\n",
    "        img_torch = self.transform(img)\n",
    "        \n",
    "        # Flatten Tensor\n",
    "        #img_torch = torch.flatten(img_torch)\n",
    "        return img_torch, lbl_index\n",
    "\n",
    "loader = Simple_Dataloader(root_dir, \"test\")\n",
    "print(loader[0])"
   ]
  },
  {
   "cell_type": "code",
   "execution_count": null,
   "metadata": {},
   "outputs": [],
   "source": []
  },
  {
   "cell_type": "markdown",
   "metadata": {},
   "source": [
    "## 2. Dataset zu Dataloader (nothing ToDo)\n",
    "Wir übergeben das Dataset dem Dataloader."
   ]
  },
  {
   "cell_type": "code",
   "execution_count": 61,
   "metadata": {},
   "outputs": [
    {
     "name": "stdout",
     "output_type": "stream",
     "text": [
      "Cache Data:\n",
      "train\n",
      "c:\\Users\\TUK\\Documents\\_Uni\\ki\\U05\\STL-10_Dataset\\train\\\n",
      "val\n",
      "c:\\Users\\TUK\\Documents\\_Uni\\ki\\U05\\STL-10_Dataset\\val\\\n",
      "test\n",
      "c:\\Users\\TUK\\Documents\\_Uni\\ki\\U05\\STL-10_Dataset\\test\\\n"
     ]
    },
    {
     "data": {
      "text/plain": [
       "{'train': 4250, 'val': 250, 'test': 500}"
      ]
     },
     "execution_count": 61,
     "metadata": {},
     "output_type": "execute_result"
    }
   ],
   "source": [
    "batch_size_train = 16 # 88\n",
    "batch_size_val = 1\n",
    "\n",
    "print(\"Cache Data:\")\n",
    "\n",
    "train_dataset = Simple_Dataloader(root_dir=root_dir, loader_mode=\"train\")\n",
    "val_dataset = Simple_Dataloader(root_dir=root_dir, loader_mode=\"val\")\n",
    "test_dataset = Simple_Dataloader(root_dir=root_dir, loader_mode=\"test\")\n",
    "\n",
    "\n",
    "train_dataloader = torch.utils.data.DataLoader(train_dataset, batch_size=batch_size_train, pin_memory=True,\n",
    "                                               shuffle=True, drop_last=False)\n",
    "\n",
    "val_dataloader = torch.utils.data.DataLoader(val_dataset, batch_size=batch_size_val, pin_memory=True,\n",
    "                                             shuffle=False, drop_last=True)\n",
    "\n",
    "test_dataloader = torch.utils.data.DataLoader(test_dataset, batch_size=1, pin_memory=True,\n",
    "                                              shuffle=False, drop_last=False)\n",
    "\n",
    "dataset_sizes = dict()\n",
    "dataset_sizes[\"train\"] = len(train_dataset)\n",
    "dataset_sizes[\"val\"] = len(val_dataset)\n",
    "dataset_sizes[\"test\"] = len(test_dataset)\n",
    "dataset_sizes"
   ]
  },
  {
   "cell_type": "markdown",
   "metadata": {
    "id": "sQnqIs97lg6H"
   },
   "source": [
    "## 3. Plotten von Zwischenergebnissen (nothing ToDo)\n",
    "Später, während des Trainings und der Validierung, möchten wir gerne einige Zwischenergebnisse sehen. Hierfür verwenden wir die nachfolgende Methode. Dabei wird in Ihrem Verzeichnis ein Ordner mit dem Namen *Some Results [YYYY-MM-DD HH_MM_SS]* (Zeitstempel kommt von oben) angelegt. Darin finden Sie nach ausreichend langem Training, zwei Unterordner *train* und *val*. Beide Unterordner enthalten die Zwischenergebnisse. Die Dateinamen sehen wie folgt aus:\n",
    "  \n",
    "<br>\n",
    "<center>Epoch_e;cls_i.png</center>\n",
    "\n",
    "und bedeuten, dass das gezeigte Bild in der Epoche e, Iteration i, als Klasse cls klassifiziert wurde.\n",
    "<br>  \n",
    "<br>  \n",
    "<br>  \n",
    "\n",
    "### 3.1 Pytorch Tensoren und ihre Dimensionsreihenfolge (nothing ToDo)\n",
    "Ein Pytorch Tensor hat in der Regel folgende shape:\n",
    "\n",
    "<br>\n",
    "<center>[batch_size, num_channels, height, width]</center>\n",
    "\n",
    "Das heißt, um ein RGB Bild zu plotten müssen wir uns erst einmal für einen Batchindex entscheiden. Um unnötigen Ärger mit nichtvorhandenen Indizes zu vermeiden, wählen wir im nächsten Abschnitt *batch_idx = 0*, somit bekommen wir auch keinen Fehler, selbst wenn wir mit einer Minibatch von *batch_size = 1* trainieren. Folglich ist *inp* von der Form:\n",
    "\n",
    "<br>\n",
    "<center>[num_channels, height, width]</center>\n",
    "\n",
    "Ein weiterer Unterschied bezüglich der Dimensionsreihenfolge zwischen der Pytorch Tensoren und numpy Arrays ist, dass bei numpy Arrays die Channels am Ende stehen. Um diese Reihenfolge anzupassen, verwenden wir im folgenden:\n",
    "\n",
    "<br>\n",
    "<center>inp.transpose((1, 2, 0))</center>\n",
    "\n",
    "Das heißt die erste Dimension wird an die nullte Dimension, die zeite Dimension an die erste Dimension und die nullte an die zweite Dimension verschoben. Oft spricht man auch von *channel first* oder *channel last*.\n",
    "\n",
    "<br>\n",
    "Da die Pytorch Tensoren Float-Tensoren sind, enthalten die Channels Werte zwischen 0 und 1. Wenn wir aber mit PIL (Pillow) ein Bild speichern möchten, müssen wir den Tensor zu einem uint8 Format casten (Restklassenring Z/256Z) und sicherstellen, dass die Werte zwischen 0 und 255 liegen."
   ]
  },
  {
   "cell_type": "code",
   "execution_count": 62,
   "metadata": {
    "id": "XXrosxRelg6H"
   },
   "outputs": [],
   "source": [
    "def plot_some_results(inputs, preds, class_map, img_counter, epoch, phase):\n",
    "    batch_idx = 0\n",
    "    \n",
    "    # Den Teil \".cpu().detach()\" brauchen wir hier nicht unbedingt, da wir nicht auf einer Grafikkarte arbeiten.\n",
    "    # Könnte aber für alle interessant sein, die das Zuhause auf ihrem eigenen PC mit GPU Unterstüzung laufen lassen.\n",
    "    inp = np.array(inputs.cpu().detach().numpy()[batch_idx], dtype=np.float32)\n",
    "    \n",
    "    means = [0.485, 0.456, 0.406]\n",
    "    stds = [0.229, 0.224, 0.225]\n",
    "    \n",
    "    # Da die Bilder zuvor normalisiert wurden, müssen wir dies erst rückgängig machen.\n",
    "    for channel in range(3):\n",
    "        inp[channel] = inp[channel] * stds[channel] + means[channel]\n",
    "        inp[channel] = np.minimum(np.maximum(inp[channel], 0), 1)    \n",
    "    \n",
    "    inp = np.array(inp.transpose((1, 2, 0)) * 255.0, dtype=np.uint8)\n",
    "    class_name = class_map[int(preds[batch_idx])]\n",
    "\n",
    "    save_dir_results = os.getcwd() + os.sep + \"Results\" + os.sep + phase + os.sep\n",
    "\n",
    "    if not os.path.isdir(save_dir_results):\n",
    "        os.makedirs(save_dir_results)\n",
    "    \n",
    "    save_path = save_dir_results + \"Epoch_\" + str(epoch) + \";\" + class_name + \"_\" + str(img_counter) + \".png\"\n",
    "    cv2.imwrite(save_path, inp)\n",
    "    img_counter += 1"
   ]
  },
  {
   "cell_type": "markdown",
   "metadata": {
    "id": "GCE3mtVvlg6I"
   },
   "source": [
    "## 4. Convolutional Neural Network definieren (ToDo)\n",
    "Im folgenden betrachten wir drei Modelle\n",
    "\n",
    "0. Small_Model\n",
    "1. Our_First_CNN\n",
    "2. ResNet34\n",
    "\n",
    "Das *Small_Model* soll Ihnen Hilfestellung geben, wie ein CNN implementiert werden kann. Dabei wurden einige aus der Vorlesung bekannte Konzepte wie z.B. die Convolution Operation (```nn.Conv2d```), Dropout (```nn.Dropout```), Fully-Connected-Layer (```nn.Linear```), Pooling-Layer (z.B. Max-Pooling ```nn.MaxPool2d```) und eine Aktivierungsfunktion (z.B. ```nn.ReLU```) verwendet.\n",
    "\n",
    "Das *ResNet34* ist ein vordefiniertes CNN mit dem oft erstaunlich gute Ergebnisser erzielt werden können. Es soll als Vergleichsmodell dienen.\n",
    "\n",
    "Außerdem gibt es noch das *Our_First_CNN*. Sie können diese Klasse als Vorlage verwenden um ihr eigenes CNN zu implementieren. \n",
    "\n",
    "<br>  \n",
    "Bei vordefinierten Modellen wie z.B. AlexNet, ResNet oder GoogleNet können wir vortrainierte Gewichte verwenden. Das tolle an vortrainierten Modellen bzw. Gewichten ist, dass es keine große Rolle spielt ob sie zuvor ähnliche Objekte gesehen haben. Wir könnten z.B. ein Modell auf verschiedene Hundearten vortrainieren und später verwenden um das gleiche Modell zu verwenden um Schiffe von Autos zu unterscheiden. Diese Technik nennt sich Transfer-Learning. Der Grund, weshalb das funktioniert liegt daran, dass tiefe Netze viele verschiedene Arten von Features lernen. Diese Feature können wenig komplex sein z.B. Linien und Kurven (häufig in den ersten Layern) bis hin zu sehr komplexen Features wie z.B. die Schnautze eines Labradors oder die Ohren eines Luchses (oft in den letzten Layern).\n",
    "\n",
    "Wenn Sie also ein anderes vordefiniertes Modell ausprobieren möchten sollten Sie den Parameter `pretrained` auf `True` setzen. Die Datensätze auf denen zuvor trainiert wurde, haben meist nicht die gleiche Anzahl an Klassen, wie wir sie benötigen. Daher schneiden wir den letzten Layer ab und setzen einen neuen Layer mit der von uns benötigten Anzahl an Klassen bzw Neuronen dran. Der letzte Layer ist bei Klassifizierern in der Regel ein Fully-Connected Layer. Die neu zugewiesene Gewichte kennen wir natürlich nicht und wählen daher eine zufällige Belegung.\n",
    "\n",
    "### ToDo\n",
    "Ihre Aufgabe ist es also die Klasse *Our_First_CNN* so zu implementieren, dass ein Modell entsteht das besser ist als das *Small_Model*."
   ]
  },
  {
   "cell_type": "code",
   "execution_count": 63,
   "metadata": {
    "id": "kLCooXfzlg6I"
   },
   "outputs": [],
   "source": [
    "import torch.nn as nn\n",
    "import torch.nn.functional as F\n",
    "\n",
    "class Small_Model(nn.Module):\n",
    "    def __init__(self):\n",
    "        super().__init__()\n",
    "        self.conv1 = nn.Conv2d(in_channels=3, out_channels=64, kernel_size=(5, 5), stride=(1, 1), padding=(0, 0), bias=False)\n",
    "        self.dropout = nn.Dropout(0.33)\n",
    "        self.relu1 = nn.ReLU(inplace=True)\n",
    "        self.pool1 = nn.MaxPool2d(2, 2)\n",
    "\n",
    "        self.fc1 = nn.Linear(64 * 46 * 46, 128)\n",
    "        self.fc2 = nn.Linear(128, 10)\n",
    "\n",
    "    def forward(self, x):\n",
    "        x = self.pool1(self.relu1(self.dropout(self.conv1(x))))\n",
    "        x = torch.flatten(x, 1) # flatte alle Dimensionen außer der Batch\n",
    "        x = torch.relu(self.fc1(x))\n",
    "        x = self.fc2(x)\n",
    "        return x\n",
    "\n",
    "    \n",
    "class Our_First_CNN(nn.Module):\n",
    "    def __init__(self):\n",
    "        super().__init__()\n",
    "        self.conv1 = nn.Conv2d(in_channels=3, out_channels=64, kernel_size=(7, 7), stride=(1, 1), padding=(0, 0))\n",
    "\n",
    "        self.conv2 = nn.Conv2d(in_channels=64, out_channels=128, kernel_size=(5, 5), stride=(1, 1), padding=(0, 0), bias=False)\n",
    "        self.pool1 = nn.MaxPool2d(2, 2)\n",
    "\n",
    "        self.conv3 = nn.Conv2d(in_channels=128, out_channels=256, kernel_size=(3, 3), stride=(1, 1), padding=(0, 0), bias=False)\n",
    "\n",
    "\n",
    "        self.conv4 = nn.Conv2d(in_channels=256, out_channels=512, kernel_size=(3, 3), stride=(1, 1), padding=(0, 0), bias=False)\n",
    "        self.dropout = nn.Dropout(0.33)\n",
    "        self.relu1 = nn.ReLU(inplace=True)\n",
    "        self.pool2 = nn.MaxPool2d(2, 2)\n",
    "\n",
    "        self.fc1 = nn.Linear(512 * 19 * 19, 512)\n",
    "        self.fc2 = nn.Linear(512, 10)\n",
    "\n",
    "    def forward(self, x):\n",
    "        # print(\"x.size (1) =\", x.shape)\n",
    "        x = torch.relu(self.conv1(x))\n",
    "        x = self.pool1(torch.relu(self.conv2(x)))\n",
    "        x = torch.relu(self.conv3(x))\n",
    "        x = self.pool2(self.relu1(self.dropout(self.conv4(x))))\n",
    "\n",
    "        x = torch.flatten(x, 1) # flatte alle Dimensionen außer der Batch\n",
    "        x = torch.relu(self.fc1(x))\n",
    "        x = self.fc2(x)\n",
    "        return x\n",
    "\n",
    "    \n",
    "def resnet34(pretrained, num_classes=1000):\n",
    "    # Lade das ResNet34\n",
    "    model = torchvision.models.resnet34(pretrained=pretrained)\n",
    "    \n",
    "    # Die Anzahl der eingehenden Neuronen in den letzten Layer des ResNet34 werden in der Variable num_features gespeichert.\n",
    "    num_features = model.fc.in_features\n",
    "    \n",
    "    # Ändere die Anzahl ausgehender Neuronen im letzten Layer des ResNet34, indem ein neuer Fully-Connected Layer \n",
    "    # zugewiesen wird.\n",
    "    model.fc = torch.nn.Linear(num_features, num_classes)\n",
    "    return model"
   ]
  },
  {
   "cell_type": "markdown",
   "metadata": {
    "id": "04_GyPc6lg6I"
   },
   "source": [
    "## 5. Implementieren der Trainingsmethode (ToDo)\n",
    "Im folgenden sollen Sie die Trainingsmethode implementieren. \n",
    "Hinweis: Sie können im Prinzip die Trainingsmethode aus dem letzen Übungsblatt verwenden und Kleinigkeiten anpassen, wie z.B. das verwendete Modell. Auch folgenden Tutorials könnten hilfreich sein:\n",
    "1. [Ein Tutorial über Transferlearning, am Beispiel von Bienen und Ameisen](https://pytorch.org/tutorials/beginner/transfer_learning_tutorial.html#training-the-model)\n",
    "2. [Training eines Klassifizierers, am Beispiel von Cifar10](https://pytorch.org/tutorials/beginner/blitz/cifar10_tutorial.html#train-the-network)"
   ]
  },
  {
   "cell_type": "code",
   "execution_count": 64,
   "metadata": {},
   "outputs": [
    {
     "name": "stdout",
     "output_type": "stream",
     "text": [
      "DEVICE: cuda:0\n"
     ]
    }
   ],
   "source": [
    "import torch.optim as optim\n",
    "from torch.optim import lr_scheduler\n",
    "import sys\n",
    "import copy\n",
    "\n",
    "device = torch.device(\"cuda:0\" if torch.cuda.is_available() else \"cpu\")\n",
    "print(f\"DEVICE: {device}\")\n",
    "\n",
    "\n",
    "which_model = 1\n",
    "if which_model == 0:\n",
    "    model = Small_Model()\n",
    "elif which_model == 1:\n",
    "    model = Our_First_CNN()\n",
    "else:\n",
    "    model = resnet34(pretrained=True, num_classes=len(class_map_idx_to_str))\n",
    "\n",
    "model = model.to(device)"
   ]
  },
  {
   "cell_type": "code",
   "execution_count": 65,
   "metadata": {
    "id": "qu00xBSYlg6J"
   },
   "outputs": [],
   "source": [
    "def train_model(num_epochs=100):\n",
    "    cur_lr = 0.1\n",
    "\n",
    "    best_acc = 0\n",
    "    best_model = copy.deepcopy(model.state_dict())\n",
    "\n",
    "    optimizer = torch.optim.SGD(model.parameters(), lr=cur_lr)\n",
    "\n",
    "    criterion = nn.CrossEntropyLoss()  \n",
    "\n",
    "    for e in range(1, num_epochs + 1):\n",
    "\n",
    "        for phase in [True, False]: # True: train    False: val\n",
    "            if phase:\n",
    "                model.train()\n",
    "                dataloader = train_dataloader\n",
    "                dataset_size = dataset_sizes[\"train\"]\n",
    "            else:\n",
    "                model.eval()\n",
    "                dataloader = val_dataloader \n",
    "                dataset_size = dataset_sizes[\"val\"]\n",
    "\n",
    "            running_loss = 0\n",
    "            running_corrects = 0\n",
    "            \n",
    "            i = 0\n",
    "            for inputs, labels in dataloader:\n",
    "                i += 1\n",
    "\n",
    "                inputs = inputs.to(device)\n",
    "                labels = labels.to(device)\n",
    "                optimizer.zero_grad()\n",
    "\n",
    "                with torch.set_grad_enabled(phase):\n",
    "                    outputs = model(inputs)\n",
    "\n",
    "                    # ???\n",
    "                    _, preds = torch.max(outputs, 1)\n",
    "\n",
    "                    loss = criterion(outputs, labels)\n",
    "                    if phase:\n",
    "                        loss.backward()\n",
    "                        optimizer.step()\n",
    "\n",
    "                # ???\n",
    "                running_loss += loss.item() * inputs.size(0)\n",
    "                running_corrects += torch.sum(preds == labels.data) \n",
    "\n",
    "            # ???\n",
    "            epoch_loss = running_loss / dataset_size\n",
    "            epoch_acc = running_corrects.double() / dataset_size   \n",
    "\n",
    "            if not phase and epoch_acc > best_acc:\n",
    "                best_acc = epoch_acc\n",
    "                best_model = copy.deepcopy(model.state_dict())          \n",
    "        \n",
    "        print(\"#\" * 10)\n",
    "        print(f\"Epoche: {e}\")\n",
    "        print(f\"Loss: {epoch_loss}, Acc: {epoch_acc}\")\n",
    "\n",
    "        model.load_state_dict(best_model)\n",
    "\n",
    "\n"
   ]
  },
  {
   "cell_type": "markdown",
   "metadata": {
    "id": "4u8itY_Flg6K"
   },
   "source": [
    "## 6. Evaluieren des trainierten Modells (ToDo)\n",
    "Vervollständigen Sie die Methode test_classifier() so, dass eine Confusion Matrix für alle Testbilder berechnet und visualsiert wird. In *all_imgs* sind alle Pfade zu den Testbildern zu finden.  \n",
    "<br>"
   ]
  },
  {
   "cell_type": "code",
   "execution_count": 66,
   "metadata": {
    "id": "6HQZsWrSlg6K"
   },
   "outputs": [],
   "source": [
    "import matplotlib.pyplot as plt\n",
    "from sklearn import metrics\n",
    "\n",
    "def eval(predicted, actually):\n",
    "    # print(metrics.confusion_matrix(actually, predicted))\n",
    "    precission  = metrics.precision_score(actually, predicted, average=\"macro\", zero_division=1)\n",
    "    recall      = metrics.recall_score(actually, predicted, average=\"macro\", zero_division=1)\n",
    "    f1          = metrics.f1_score(actually, predicted, average=\"macro\", zero_division=1)\n",
    "    return (precission, recall, f1)\n",
    "\n",
    "def test_model(test_dataset):    \n",
    "    model.eval()\n",
    "    pred_true = 0\n",
    "\n",
    "    actually = []\n",
    "    predicted = []\n",
    "    \n",
    "    for inputs, labels in test_dataset:\n",
    "        inputs = inputs.to(device)\n",
    "        labels = labels.to(device)\n",
    "        outputs = model(inputs)\n",
    "        #print(outputs)\n",
    "        tmp = 0\n",
    "        pred = 0\n",
    "        for i, t in enumerate(outputs[0]):\n",
    "            if tmp < t:\n",
    "                tmp = t\n",
    "                pred = i\n",
    "                \n",
    "        \n",
    "        actually += [int(labels)]\n",
    "        predicted += [int(pred)]        \n",
    "    \n",
    "    return actually, predicted\n"
   ]
  },
  {
   "cell_type": "markdown",
   "metadata": {
    "id": "zI6eAtlHlg6L"
   },
   "source": [
    "## 7. Training und Valdierung starten (ToDo)\n",
    "Starten Sie nun das Training."
   ]
  },
  {
   "cell_type": "code",
   "execution_count": 67,
   "metadata": {
    "colab": {
     "base_uri": "https://localhost:8080/",
     "height": 748
    },
    "id": "kaZcgM07lg6L",
    "outputId": "8e9c7c6e-f24d-4ca7-ef1d-fe694e4c723a",
    "scrolled": true
   },
   "outputs": [
    {
     "name": "stdout",
     "output_type": "stream",
     "text": [
      "##########\n",
      "Epoche: 1\n",
      "Loss: 2.2849727101325987, Acc: 0.124\n",
      "##########\n",
      "Epoche: 2\n",
      "Loss: 2.2875569591522216, Acc: 0.14\n",
      "##########\n",
      "Epoche: 3\n",
      "Loss: 2.27585440158844, Acc: 0.128\n",
      "##########\n",
      "Epoche: 4\n",
      "Loss: 2.2845791549682617, Acc: 0.156\n",
      "##########\n",
      "Epoche: 5\n",
      "Loss: 2.320684208869934, Acc: 0.124\n",
      "##########\n",
      "Epoche: 6\n",
      "Loss: 2.1270299870967864, Acc: 0.176\n",
      "##########\n",
      "Epoche: 7\n",
      "Loss: 2.026660521194339, Acc: 0.26\n",
      "##########\n",
      "Epoche: 8\n",
      "Loss: 2.0775172230005263, Acc: 0.228\n",
      "##########\n",
      "Epoche: 9\n",
      "Loss: 1.8310508182048797, Acc: 0.296\n",
      "##########\n",
      "Epoche: 10\n",
      "Loss: 1.8893531006872655, Acc: 0.256\n"
     ]
    }
   ],
   "source": [
    "train_model(10)"
   ]
  },
  {
   "cell_type": "markdown",
   "metadata": {},
   "source": [
    "Testen Sie Ihr Model."
   ]
  },
  {
   "cell_type": "code",
   "execution_count": 68,
   "metadata": {
    "id": "m7D0gxFMlg6M",
    "outputId": "bed3efc4-7d89-4e0c-9c44-c97e2356b858"
   },
   "outputs": [],
   "source": [
    "actually, predicted = test_model(test_dataloader)"
   ]
  },
  {
   "cell_type": "markdown",
   "metadata": {
    "id": "f4SxUCoElg6M"
   },
   "source": [
    "## 8. Metriken berechnen (ToDo)\n",
    "Berechnen Sie die Precision, Recall und $F_1$-Score und visualisieren Sie die Confusion Matrix."
   ]
  },
  {
   "cell_type": "code",
   "execution_count": 69,
   "metadata": {},
   "outputs": [
    {
     "name": "stdout",
     "output_type": "stream",
     "text": [
      "Precision:  0.49132087745678305\n",
      "Recall:     0.344\n",
      "F1-Score:   0.3056654046328118\n"
     ]
    }
   ],
   "source": [
    "# ToDo\n",
    "(precision, recall, f1) = eval(predicted, actually)\n",
    "print(f\"Precision:  {precision}\")\n",
    "print(f\"Recall:     {recall}\")\n",
    "print(f\"F1-Score:   {f1}\")"
   ]
  },
  {
   "cell_type": "markdown",
   "metadata": {},
   "source": [
    "## 9. Ergebnisse visualisieren\n",
    "Visualisieren Sie Ihre Ergebnisse in einer Confusion Matrix."
   ]
  },
  {
   "cell_type": "code",
   "execution_count": 70,
   "metadata": {
    "id": "KiFfzslrlg6N"
   },
   "outputs": [
    {
     "data": {
      "image/png": "[encoded data removed]",
      "text/plain": [
       "<Figure size 640x480 with 2 Axes>"
      ]
     },
     "metadata": {},
     "output_type": "display_data"
    }
   ],
   "source": [
    "cm = metrics.confusion_matrix(actually, predicted)\n",
    "display = metrics.ConfusionMatrixDisplay(confusion_matrix=cm, display_labels = get_labels())\n",
    "display.plot()\n",
    "plt.show()"
   ]
  }
 ],
 "metadata": {
  "accelerator": "GPU",
  "colab": {
   "collapsed_sections": [],
   "name": "STL-10.ipynb",
   "provenance": []
  },
  "kernelspec": {
   "display_name": "venv310",
   "language": "python",
   "name": "python3"
  },
  "language_info": {
   "codemirror_mode": {
    "name": "ipython",
    "version": 3
   },
   "file_extension": ".py",
   "mimetype": "text/x-python",
   "name": "python",
   "nbconvert_exporter": "python",
   "pygments_lexer": "ipython3",
   "version": "3.10.7"
  },
  "vscode": {
   "interpreter": {
    "hash": "63d1395acabbc01fc3b6fb9017317b3333f6085062a36582b2872c791047cc07"
   }
  }
 },
 "nbformat": 4,
 "nbformat_minor": 1
}
